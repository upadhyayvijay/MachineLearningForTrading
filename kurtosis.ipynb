{
 "cells": [
  {
   "cell_type": "code",
   "execution_count": 17,
   "metadata": {},
   "outputs": [
    {
     "data": {
      "image/png": "[encoded data removed]",
      "text/plain": [
       "<matplotlib.figure.Figure at 0x9d65570>"
      ]
     },
     "metadata": {},
     "output_type": "display_data"
    },
    {
     "name": "stdout",
     "output_type": "stream",
     "text": [
      "4.74766068415\n"
     ]
    }
   ],
   "source": [
    "import pandas as pd\n",
    "import os\n",
    "import matplotlib.pyplot as plt\n",
    "\n",
    "def get_data(filename):\n",
    "    base_dir = \"data\"\n",
    "    cwd = os.getcwd()\n",
    "    path = os.path.join(cwd, base_dir, filename)\n",
    "    dfstocks = pd.read_csv(path, index_col = \"Unnamed: 0\")\n",
    "    return dfstocks\n",
    "\n",
    "def daily_percentage_change(df):\n",
    "    return df[:-1].values / df[1:] - 1\n",
    "\n",
    "def plot_data(data, title = \"Daily Percentage Change\"):\n",
    "    #ax = data.plot(title = title, fontsize = 2)\n",
    "    #ax.set_xlabel(\"Date\")\n",
    "    #ax.set_ylabel(\"Percentage Change\")\n",
    "    data['EMMBI.csv'].hist(bins = 20, label = 'EMMBI')\n",
    "    data['AGARIND.csv'].hist(bins = 20, label = 'AGARWAL IND')\n",
    "    plt.legend(loc = 'upper right')\n",
    "    \n",
    "    #mean = data['EMMBI.csv'].mean()\n",
    "    #std = data['EMMBI.csv'].std()\n",
    "    #plt.axvline(mean, color = 'w', linestyle = 'dashed', linewidth = 2)\n",
    "    #plt.axvline(std, color = 'r', linestyle = 'dashed', linewidth = 2)\n",
    "    #plt.axvline(-std, color = 'r', linestyle = 'dashed', linewidth = 2)\n",
    "    plt.show()\n",
    "    \n",
    "    print data['EMMBI.csv'].kurtosis()\n",
    "\n",
    "def analyze():\n",
    "    filename = \"ClosePriceAll.csv\"\n",
    "    dfstocks = get_data(filename)\n",
    "    df_daily_cahnge = daily_percentage_change(dfstocks)\n",
    "    plot_data(df_daily_cahnge)\n",
    "    \n",
    "    \n",
    "if __name__ == \"__main__\":\n",
    "    analyze()"
   ]
  },
  {
   "cell_type": "code",
   "execution_count": null,
   "metadata": {
    "collapsed": true
   },
   "outputs": [],
   "source": []
  }
 ],
 "metadata": {
  "kernelspec": {
   "display_name": "Python 2",
   "language": "python",
   "name": "python2"
  },
  "language_info": {
   "codemirror_mode": {
    "name": "ipython",
    "version": 2
   },
   "file_extension": ".py",
   "mimetype": "text/x-python",
   "name": "python",
   "nbconvert_exporter": "python",
   "pygments_lexer": "ipython2",
   "version": "2.7.13"
  }
 },
 "nbformat": 4,
 "nbformat_minor": 2
}
